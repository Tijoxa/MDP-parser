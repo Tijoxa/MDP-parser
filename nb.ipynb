{
 "cells": [
  {
   "cell_type": "code",
   "execution_count": null,
   "metadata": {},
   "outputs": [],
   "source": [
    "!python mdp.py < ex.mdp"
   ]
  },
  {
   "cell_type": "code",
   "execution_count": 1,
   "metadata": {},
   "outputs": [],
   "source": [
    "# pip install antlr4-python3-runtime\n",
    "%reload_ext autoreload\n",
    "%autoreload 2\n",
    "from graphe import *"
   ]
  },
  {
   "cell_type": "code",
   "execution_count": 2,
   "metadata": {},
   "outputs": [],
   "source": [
    "lexer = gramLexer(FileStream(\"ex.mdp\"))\n",
    "stream = CommonTokenStream(lexer)\n",
    "parser = gramParser(stream)\n",
    "tree = parser.program()\n",
    "printer = gramPrintListener()\n",
    "walker = ParseTreeWalker()\n",
    "walker.walk(printer, tree)"
   ]
  },
  {
   "cell_type": "code",
   "execution_count": 3,
   "metadata": {},
   "outputs": [],
   "source": [
    "graph = graphe(\"ex.mdp\")"
   ]
  },
  {
   "cell_type": "code",
   "execution_count": 4,
   "metadata": {},
   "outputs": [
    {
     "data": {
      "text/plain": [
       "['a', 'b']"
      ]
     },
     "execution_count": 4,
     "metadata": {},
     "output_type": "execute_result"
    }
   ],
   "source": [
    "graph.actions"
   ]
  }
 ],
 "metadata": {
  "kernelspec": {
   "display_name": "main",
   "language": "python",
   "name": "python3"
  },
  "language_info": {
   "codemirror_mode": {
    "name": "ipython",
    "version": 3
   },
   "file_extension": ".py",
   "mimetype": "text/x-python",
   "name": "python",
   "nbconvert_exporter": "python",
   "pygments_lexer": "ipython3",
   "version": "3.10.4"
  },
  "orig_nbformat": 4,
  "vscode": {
   "interpreter": {
    "hash": "1bb1d446d2b1a882b2b80808e0049db32a4e04638c5079d1889cd51fa073c0aa"
   }
  }
 },
 "nbformat": 4,
 "nbformat_minor": 2
}
