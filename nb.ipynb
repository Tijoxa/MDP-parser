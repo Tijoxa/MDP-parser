{
 "cells": [
  {
   "cell_type": "code",
   "execution_count": null,
   "metadata": {},
   "outputs": [],
   "source": [
    "!python mdp.py < ex.mdp\n",
    "import numpy as np"
   ]
  },
  {
   "cell_type": "code",
   "execution_count": null,
   "metadata": {},
   "outputs": [],
   "source": [
    "# pip install antlr4-python3-runtime\n",
    "%reload_ext autoreload\n",
    "%autoreload 2\n",
    "from graphe import *"
   ]
  },
  {
   "cell_type": "code",
   "execution_count": null,
   "metadata": {},
   "outputs": [],
   "source": [
    "lexer = gramLexer(FileStream(\"ex.mdp\"))\n",
    "stream = CommonTokenStream(lexer)\n",
    "parser = gramParser(stream)\n",
    "tree = parser.program()\n",
    "printer = gramPrintListener()\n",
    "walker = ParseTreeWalker()\n",
    "walker.walk(printer, tree)"
   ]
  },
  {
   "attachments": {},
   "cell_type": "markdown",
   "metadata": {},
   "source": [
    "## Création du graphe"
   ]
  },
  {
   "cell_type": "code",
   "execution_count": null,
   "metadata": {},
   "outputs": [],
   "source": [
    "graph = graphe(\"ex.mdp\")"
   ]
  },
  {
   "attachments": {},
   "cell_type": "markdown",
   "metadata": {},
   "source": [
    "Attributs : \n",
    "- self.actions\n",
    "- self.states\n",
    "- self.transact\n",
    "- self.transnoact\n",
    "- self.dictStates (mapping des états vers un numéro)\n",
    "- self.dictActions (mapping des actions vers un numéro)\n",
    "\n",
    "Méthodes :\n",
    "- self.grapheToMat()\n",
    "- self.verifGraphe()\n",
    "- self.visualizeGraphe()\n",
    "- self.parcours()\n",
    "- self.statistiques()"
   ]
  },
  {
   "cell_type": "code",
   "execution_count": null,
   "metadata": {},
   "outputs": [],
   "source": [
    "graph.transact"
   ]
  },
  {
   "cell_type": "code",
   "execution_count": null,
   "metadata": {},
   "outputs": [],
   "source": [
    "graph.states"
   ]
  },
  {
   "attachments": {},
   "cell_type": "markdown",
   "metadata": {},
   "source": [
    "grapheToMat() transforme le graphe en une matrice d'adjacence avec poids $S*S*A$ où S est le nombre d'état et A le nombre d'actions. "
   ]
  },
  {
   "cell_type": "code",
   "execution_count": null,
   "metadata": {},
   "outputs": [],
   "source": [
    "graph.grapheToMat()"
   ]
  },
  {
   "cell_type": "code",
   "execution_count": 12,
   "metadata": {},
   "outputs": [
    {
     "name": "stdout",
     "output_type": "stream",
     "text": [
      "Help on method _verifGraphe in module graphe:\n",
      "\n",
      "_verifGraphe() -> str method of graphe.graphe instance\n",
      "    Fonction appelée lors de l'initialisation. Vérifie que le graphe est correct : \n",
      "        - Vérifie que les états et actions utilisés dans les transitions sont bien définis.\n",
      "        - Vérifie que s'il existe une transition avec action de x vers y, alors il n'existe pas de transition sans action de x vers y.\n",
      "        - Vérifie que les poids se somment à un\n",
      "\n"
     ]
    }
   ],
   "source": [
    "help(graph._verifGraphe)"
   ]
  },
  {
   "cell_type": "code",
   "execution_count": 15,
   "metadata": {},
   "outputs": [
    {
     "data": {
      "text/plain": [
       "''"
      ]
     },
     "execution_count": 15,
     "metadata": {},
     "output_type": "execute_result"
    }
   ],
   "source": [
    "graph._verifGraphe() # Renvoie vide car la chaîne est correcte"
   ]
  },
  {
   "attachments": {},
   "cell_type": "markdown",
   "metadata": {},
   "source": [
    "vérifGraphe est appelée dès la création d'un graphe. Les erreurs associées s'affichent."
   ]
  },
  {
   "cell_type": "code",
   "execution_count": 26,
   "metadata": {},
   "outputs": [
    {
     "ename": "AssertionError",
     "evalue": "S1 état non défini\nc action non définie\nLes poids des transitions à partir de S1 avec l'action b ne se somment pas à 1",
     "output_type": "error",
     "traceback": [
      "\u001b[1;31m---------------------------------------------------------------------------\u001b[0m",
      "\u001b[1;31mAssertionError\u001b[0m                            Traceback (most recent call last)",
      "Cell \u001b[1;32mIn[26], line 1\u001b[0m\n\u001b[1;32m----> 1\u001b[0m graphe(\u001b[39m\"\u001b[39;49m\u001b[39mex2.mdp\u001b[39;49m\u001b[39m\"\u001b[39;49m)\n",
      "File \u001b[1;32md:\\Bureau léger\\ECN\\MPAR\\MDP-parser\\graphe.py:28\u001b[0m, in \u001b[0;36mgraphe.__init__\u001b[1;34m(self, path)\u001b[0m\n\u001b[0;32m     26\u001b[0m     \u001b[39mself\u001b[39m\u001b[39m.\u001b[39mdictActions[action] \u001b[39m=\u001b[39m i\n\u001b[0;32m     27\u001b[0m erreur \u001b[39m=\u001b[39m \u001b[39mself\u001b[39m\u001b[39m.\u001b[39m_verifGraphe()\n\u001b[1;32m---> 28\u001b[0m \u001b[39massert\u001b[39;00m (erreur \u001b[39m==\u001b[39m \u001b[39m\"\u001b[39m\u001b[39m\"\u001b[39m), erreur\n\u001b[0;32m     29\u001b[0m \u001b[39mpass\u001b[39;00m\n",
      "\u001b[1;31mAssertionError\u001b[0m: S1 état non défini\nc action non définie\nLes poids des transitions à partir de S1 avec l'action b ne se somment pas à 1"
     ]
    }
   ],
   "source": [
    "graphe(\"ex2.mdp\") # vérifGraphe est appelée dès la création d'un graphe. Les erreurs associées s'affichent"
   ]
  },
  {
   "attachments": {},
   "cell_type": "markdown",
   "metadata": {},
   "source": [
    "visualizeGraphe() représente la chaîne de Markov. "
   ]
  },
  {
   "cell_type": "code",
   "execution_count": 17,
   "metadata": {},
   "outputs": [
    {
     "data": {
      "image/svg+xml": "<?xml version=\"1.0\" encoding=\"UTF-8\" standalone=\"no\"?>\n<!DOCTYPE svg PUBLIC \"-//W3C//DTD SVG 1.1//EN\"\n \"http://www.w3.org/Graphics/SVG/1.1/DTD/svg11.dtd\">\n<!-- Generated by graphviz version 2.50.0 (0)\n -->\n<!-- Title: Graphe Pages: 1 -->\n<svg width=\"234pt\" height=\"339pt\"\n viewBox=\"0.00 0.00 233.95 338.60\" xmlns=\"http://www.w3.org/2000/svg\" xmlns:xlink=\"http://www.w3.org/1999/xlink\">\n<g id=\"graph0\" class=\"graph\" transform=\"scale(1 1) rotate(0) translate(4 334.6)\">\n<title>Graphe</title>\n<polygon fill=\"white\" stroke=\"transparent\" points=\"-4,4 -4,-334.6 229.95,-334.6 229.95,4 -4,4\"/>\n<!-- S0 -->\n<g id=\"node1\" class=\"node\">\n<title>S0</title>\n<ellipse fill=\"none\" stroke=\"black\" cx=\"137.95\" cy=\"-312.6\" rx=\"27\" ry=\"18\"/>\n<text text-anchor=\"middle\" x=\"137.95\" y=\"-308.9\" font-family=\"Times New Roman,serif\" font-size=\"14.00\">S0</text>\n</g>\n<!-- S1 -->\n<g id=\"node2\" class=\"node\">\n<title>S1</title>\n<ellipse fill=\"none\" stroke=\"black\" cx=\"63.95\" cy=\"-225.6\" rx=\"27\" ry=\"18\"/>\n<text text-anchor=\"middle\" x=\"63.95\" y=\"-221.9\" font-family=\"Times New Roman,serif\" font-size=\"14.00\">S1</text>\n</g>\n<!-- S0&#45;&gt;S1 -->\n<g id=\"edge1\" class=\"edge\">\n<title>S0&#45;&gt;S1</title>\n<path fill=\"none\" stroke=\"black\" d=\"M124.72,-296.4C113.36,-283.35 96.8,-264.34 83.84,-249.45\"/>\n<polygon fill=\"black\" stroke=\"black\" points=\"86.27,-246.91 77.07,-241.66 80.99,-251.51 86.27,-246.91\"/>\n<text text-anchor=\"middle\" x=\"109.45\" y=\"-265.4\" font-family=\"Times New Roman,serif\" font-size=\"14.00\">5</text>\n</g>\n<!-- S2 -->\n<g id=\"node3\" class=\"node\">\n<title>S2</title>\n<ellipse fill=\"none\" stroke=\"black\" cx=\"152.95\" cy=\"-72.6\" rx=\"27\" ry=\"18\"/>\n<text text-anchor=\"middle\" x=\"152.95\" y=\"-68.9\" font-family=\"Times New Roman,serif\" font-size=\"14.00\">S2</text>\n</g>\n<!-- S0&#45;&gt;S2 -->\n<g id=\"edge2\" class=\"edge\">\n<title>S0&#45;&gt;S2</title>\n<path fill=\"none\" stroke=\"black\" d=\"M143.71,-294.7C145.4,-289.02 147.03,-282.6 147.95,-276.6 157.46,-214.32 156.13,-140.08 154.46,-100.91\"/>\n<polygon fill=\"black\" stroke=\"black\" points=\"157.95,-100.66 153.99,-90.84 150.96,-100.99 157.95,-100.66\"/>\n<text text-anchor=\"middle\" x=\"158.45\" y=\"-178.4\" font-family=\"Times New Roman,serif\" font-size=\"14.00\">5</text>\n</g>\n<!-- b0 -->\n<g id=\"node4\" class=\"node\">\n<title>b0</title>\n<ellipse fill=\"black\" stroke=\"black\" cx=\"1.95\" cy=\"-149.1\" rx=\"1.8\" ry=\"1.8\"/>\n</g>\n<!-- S1&#45;&gt;b0 -->\n<g id=\"edge3\" class=\"edge\">\n<title>S1&#45;&gt;b0</title>\n<path fill=\"none\" stroke=\"black\" d=\"M51.4,-209.52C38.7,-194.27 19.51,-171.2 9.17,-158.77\"/>\n<polygon fill=\"black\" stroke=\"black\" points=\"11.83,-156.5 2.74,-151.05 6.45,-160.97 11.83,-156.5\"/>\n<text text-anchor=\"middle\" x=\"38.45\" y=\"-178.4\" font-family=\"Times New Roman,serif\" font-size=\"14.00\">b</text>\n</g>\n<!-- a1 -->\n<g id=\"node5\" class=\"node\">\n<title>a1</title>\n<ellipse fill=\"black\" stroke=\"black\" cx=\"125.95\" cy=\"-149.1\" rx=\"1.8\" ry=\"1.8\"/>\n</g>\n<!-- S1&#45;&gt;a1 -->\n<g id=\"edge6\" class=\"edge\">\n<title>S1&#45;&gt;a1</title>\n<path fill=\"none\" stroke=\"black\" d=\"M70.1,-208.03C74.53,-197.64 81.24,-184.4 89.95,-174.6 97.2,-166.44 107.72,-159.69 115.52,-155.36\"/>\n<polygon fill=\"black\" stroke=\"black\" points=\"117.36,-158.35 124.67,-150.68 114.17,-152.12 117.36,-158.35\"/>\n<text text-anchor=\"middle\" x=\"93.45\" y=\"-178.4\" font-family=\"Times New Roman,serif\" font-size=\"14.00\">a</text>\n</g>\n<!-- c2 -->\n<g id=\"node6\" class=\"node\">\n<title>c2</title>\n<ellipse fill=\"black\" stroke=\"black\" cx=\"152.95\" cy=\"-1.8\" rx=\"1.8\" ry=\"1.8\"/>\n</g>\n<!-- S2&#45;&gt;c2 -->\n<g id=\"edge10\" class=\"edge\">\n<title>S2&#45;&gt;c2</title>\n<path fill=\"none\" stroke=\"black\" d=\"M152.95,-54.59C152.95,-42.06 152.95,-25.34 152.95,-14.34\"/>\n<polygon fill=\"black\" stroke=\"black\" points=\"156.45,-14.19 152.95,-4.19 149.45,-14.19 156.45,-14.19\"/>\n<text text-anchor=\"middle\" x=\"156.45\" y=\"-25.4\" font-family=\"Times New Roman,serif\" font-size=\"14.00\">c</text>\n</g>\n<!-- b0&#45;&gt;S0 -->\n<g id=\"edge5\" class=\"edge\">\n<title>b0&#45;&gt;S0</title>\n<path fill=\"none\" stroke=\"black\" d=\"M1.83,-151.17C0.95,-159.4 -3.72,-213.28 20.95,-243.6 42.91,-270.59 78.61,-289.1 104.81,-299.92\"/>\n<polygon fill=\"black\" stroke=\"black\" points=\"103.75,-303.27 114.34,-303.69 106.33,-296.76 103.75,-303.27\"/>\n<text text-anchor=\"middle\" x=\"24.45\" y=\"-221.9\" font-family=\"Times New Roman,serif\" font-size=\"14.00\">8</text>\n</g>\n<!-- b0&#45;&gt;S1 -->\n<g id=\"edge4\" class=\"edge\">\n<title>b0&#45;&gt;S1</title>\n<path fill=\"none\" stroke=\"black\" d=\"M1.99,-151.19C2.21,-156.11 3.68,-176.63 12.95,-189.6 18.44,-197.28 26.17,-203.81 33.96,-209.08\"/>\n<polygon fill=\"black\" stroke=\"black\" points=\"32.32,-212.18 42.66,-214.49 36.01,-206.24 32.32,-212.18\"/>\n<text text-anchor=\"middle\" x=\"16.45\" y=\"-178.4\" font-family=\"Times New Roman,serif\" font-size=\"14.00\">2</text>\n</g>\n<!-- a1&#45;&gt;S0 -->\n<g id=\"edge8\" class=\"edge\">\n<title>a1&#45;&gt;S0</title>\n<path fill=\"none\" stroke=\"black\" d=\"M126.04,-151.26C126.82,-161.79 132.73,-241.29 135.92,-284.25\"/>\n<polygon fill=\"black\" stroke=\"black\" points=\"132.43,-284.6 136.67,-294.32 139.41,-284.08 132.43,-284.6\"/>\n<text text-anchor=\"middle\" x=\"135.45\" y=\"-221.9\" font-family=\"Times New Roman,serif\" font-size=\"14.00\">3</text>\n</g>\n<!-- a1&#45;&gt;S1 -->\n<g id=\"edge9\" class=\"edge\">\n<title>a1&#45;&gt;S1</title>\n<path fill=\"none\" stroke=\"black\" d=\"M125.2,-151.09C121.81,-155.61 107.46,-174.6 94.95,-189.6 91.53,-193.7 87.82,-198.01 84.19,-202.14\"/>\n<polygon fill=\"black\" stroke=\"black\" points=\"81.44,-199.98 77.42,-209.78 86.67,-204.62 81.44,-199.98\"/>\n<text text-anchor=\"middle\" x=\"110.45\" y=\"-178.4\" font-family=\"Times New Roman,serif\" font-size=\"14.00\">6</text>\n</g>\n<!-- a1&#45;&gt;S2 -->\n<g id=\"edge7\" class=\"edge\">\n<title>a1&#45;&gt;S2</title>\n<path fill=\"none\" stroke=\"black\" d=\"M126.25,-147.26C127.95,-142.58 136.44,-119.14 143.4,-99.94\"/>\n<polygon fill=\"black\" stroke=\"black\" points=\"146.74,-101.01 146.86,-90.41 140.16,-98.62 146.74,-101.01\"/>\n<text text-anchor=\"middle\" x=\"143.45\" y=\"-112.4\" font-family=\"Times New Roman,serif\" font-size=\"14.00\">1</text>\n</g>\n<!-- c2&#45;&gt;S0 -->\n<g id=\"edge11\" class=\"edge\">\n<title>c2&#45;&gt;S0</title>\n<path fill=\"none\" stroke=\"black\" d=\"M154.1,-3.28C162.86,-7.03 218.95,-32.54 218.95,-71.6 218.95,-226.6 218.95,-226.6 218.95,-226.6 218.95,-257.19 191.11,-281.13 168.08,-295.7\"/>\n<polygon fill=\"black\" stroke=\"black\" points=\"166.01,-292.86 159.23,-301 169.61,-298.86 166.01,-292.86\"/>\n<text text-anchor=\"middle\" x=\"222.45\" y=\"-145.4\" font-family=\"Times New Roman,serif\" font-size=\"14.00\">5</text>\n</g>\n<!-- c2&#45;&gt;S1 -->\n<g id=\"edge12\" class=\"edge\">\n<title>c2&#45;&gt;S1</title>\n<path fill=\"none\" stroke=\"black\" d=\"M151.92,-4C147.26,-9.46 127.94,-32.67 116.95,-54.6 92.98,-102.44 77.19,-163.31 69.48,-197.71\"/>\n<polygon fill=\"black\" stroke=\"black\" points=\"66.06,-196.98 67.35,-207.5 72.9,-198.47 66.06,-196.98\"/>\n<text text-anchor=\"middle\" x=\"98.45\" y=\"-112.4\" font-family=\"Times New Roman,serif\" font-size=\"14.00\">5</text>\n</g>\n</g>\n</svg>\n",
      "text/plain": [
       "<graphviz.graphs.Digraph at 0x2b15386d270>"
      ]
     },
     "execution_count": 17,
     "metadata": {},
     "output_type": "execute_result"
    }
   ],
   "source": [
    "graph.visualizeGraphe()"
   ]
  },
  {
   "attachments": {},
   "cell_type": "markdown",
   "metadata": {},
   "source": [
    "visualizeGrapheTransitions() représente la chaîne de Markov en mettant en évidence un noeud et les transitions possibles à partir de celui-ci"
   ]
  },
  {
   "cell_type": "code",
   "execution_count": 19,
   "metadata": {},
   "outputs": [
    {
     "data": {
      "image/svg+xml": "<?xml version=\"1.0\" encoding=\"UTF-8\" standalone=\"no\"?>\n<!DOCTYPE svg PUBLIC \"-//W3C//DTD SVG 1.1//EN\"\n \"http://www.w3.org/Graphics/SVG/1.1/DTD/svg11.dtd\">\n<!-- Generated by graphviz version 2.50.0 (0)\n -->\n<!-- Title: Graphe Pages: 1 -->\n<svg width=\"234pt\" height=\"339pt\"\n viewBox=\"0.00 0.00 233.95 338.60\" xmlns=\"http://www.w3.org/2000/svg\" xmlns:xlink=\"http://www.w3.org/1999/xlink\">\n<g id=\"graph0\" class=\"graph\" transform=\"scale(1 1) rotate(0) translate(4 334.6)\">\n<title>Graphe</title>\n<polygon fill=\"white\" stroke=\"transparent\" points=\"-4,4 -4,-334.6 229.95,-334.6 229.95,4 -4,4\"/>\n<!-- S0 -->\n<g id=\"node1\" class=\"node\">\n<title>S0</title>\n<ellipse fill=\"none\" stroke=\"black\" cx=\"137.95\" cy=\"-312.6\" rx=\"27\" ry=\"18\"/>\n<text text-anchor=\"middle\" x=\"137.95\" y=\"-308.9\" font-family=\"Times New Roman,serif\" font-size=\"14.00\">S0</text>\n</g>\n<!-- S1 -->\n<g id=\"node2\" class=\"node\">\n<title>S1</title>\n<ellipse fill=\"none\" stroke=\"red\" cx=\"63.95\" cy=\"-225.6\" rx=\"27\" ry=\"18\"/>\n<text text-anchor=\"middle\" x=\"63.95\" y=\"-221.9\" font-family=\"Times New Roman,serif\" font-size=\"14.00\">S1</text>\n</g>\n<!-- S0&#45;&gt;S1 -->\n<g id=\"edge1\" class=\"edge\">\n<title>S0&#45;&gt;S1</title>\n<path fill=\"none\" stroke=\"black\" d=\"M124.72,-296.4C113.36,-283.35 96.8,-264.34 83.84,-249.45\"/>\n<polygon fill=\"black\" stroke=\"black\" points=\"86.27,-246.91 77.07,-241.66 80.99,-251.51 86.27,-246.91\"/>\n<text text-anchor=\"middle\" x=\"109.45\" y=\"-265.4\" font-family=\"Times New Roman,serif\" font-size=\"14.00\">5</text>\n</g>\n<!-- S2 -->\n<g id=\"node3\" class=\"node\">\n<title>S2</title>\n<ellipse fill=\"none\" stroke=\"black\" cx=\"152.95\" cy=\"-72.6\" rx=\"27\" ry=\"18\"/>\n<text text-anchor=\"middle\" x=\"152.95\" y=\"-68.9\" font-family=\"Times New Roman,serif\" font-size=\"14.00\">S2</text>\n</g>\n<!-- S0&#45;&gt;S2 -->\n<g id=\"edge2\" class=\"edge\">\n<title>S0&#45;&gt;S2</title>\n<path fill=\"none\" stroke=\"black\" d=\"M143.71,-294.7C145.4,-289.02 147.03,-282.6 147.95,-276.6 157.46,-214.32 156.13,-140.08 154.46,-100.91\"/>\n<polygon fill=\"black\" stroke=\"black\" points=\"157.95,-100.66 153.99,-90.84 150.96,-100.99 157.95,-100.66\"/>\n<text text-anchor=\"middle\" x=\"158.45\" y=\"-178.4\" font-family=\"Times New Roman,serif\" font-size=\"14.00\">5</text>\n</g>\n<!-- b0 -->\n<g id=\"node4\" class=\"node\">\n<title>b0</title>\n<ellipse fill=\"blue\" stroke=\"blue\" cx=\"1.95\" cy=\"-149.1\" rx=\"1.8\" ry=\"1.8\"/>\n</g>\n<!-- S1&#45;&gt;b0 -->\n<g id=\"edge3\" class=\"edge\">\n<title>S1&#45;&gt;b0</title>\n<path fill=\"none\" stroke=\"blue\" d=\"M51.4,-209.52C38.7,-194.27 19.51,-171.2 9.17,-158.77\"/>\n<polygon fill=\"blue\" stroke=\"blue\" points=\"11.83,-156.5 2.74,-151.05 6.45,-160.97 11.83,-156.5\"/>\n<text text-anchor=\"middle\" x=\"38.45\" y=\"-178.4\" font-family=\"Times New Roman,serif\" font-size=\"14.00\">b</text>\n</g>\n<!-- a1 -->\n<g id=\"node5\" class=\"node\">\n<title>a1</title>\n<ellipse fill=\"blue\" stroke=\"blue\" cx=\"125.95\" cy=\"-149.1\" rx=\"1.8\" ry=\"1.8\"/>\n</g>\n<!-- S1&#45;&gt;a1 -->\n<g id=\"edge6\" class=\"edge\">\n<title>S1&#45;&gt;a1</title>\n<path fill=\"none\" stroke=\"blue\" d=\"M70.1,-208.03C74.53,-197.64 81.24,-184.4 89.95,-174.6 97.2,-166.44 107.72,-159.69 115.52,-155.36\"/>\n<polygon fill=\"blue\" stroke=\"blue\" points=\"117.36,-158.35 124.67,-150.68 114.17,-152.12 117.36,-158.35\"/>\n<text text-anchor=\"middle\" x=\"93.45\" y=\"-178.4\" font-family=\"Times New Roman,serif\" font-size=\"14.00\">a</text>\n</g>\n<!-- c2 -->\n<g id=\"node6\" class=\"node\">\n<title>c2</title>\n<ellipse fill=\"black\" stroke=\"black\" cx=\"152.95\" cy=\"-1.8\" rx=\"1.8\" ry=\"1.8\"/>\n</g>\n<!-- S2&#45;&gt;c2 -->\n<g id=\"edge10\" class=\"edge\">\n<title>S2&#45;&gt;c2</title>\n<path fill=\"none\" stroke=\"black\" d=\"M152.95,-54.59C152.95,-42.06 152.95,-25.34 152.95,-14.34\"/>\n<polygon fill=\"black\" stroke=\"black\" points=\"156.45,-14.19 152.95,-4.19 149.45,-14.19 156.45,-14.19\"/>\n<text text-anchor=\"middle\" x=\"156.45\" y=\"-25.4\" font-family=\"Times New Roman,serif\" font-size=\"14.00\">c</text>\n</g>\n<!-- b0&#45;&gt;S0 -->\n<g id=\"edge5\" class=\"edge\">\n<title>b0&#45;&gt;S0</title>\n<path fill=\"none\" stroke=\"green\" d=\"M1.83,-151.17C0.95,-159.4 -3.72,-213.28 20.95,-243.6 42.91,-270.59 78.61,-289.1 104.81,-299.92\"/>\n<polygon fill=\"green\" stroke=\"green\" points=\"103.75,-303.27 114.34,-303.69 106.33,-296.76 103.75,-303.27\"/>\n<text text-anchor=\"middle\" x=\"24.45\" y=\"-221.9\" font-family=\"Times New Roman,serif\" font-size=\"14.00\">8</text>\n</g>\n<!-- b0&#45;&gt;S1 -->\n<g id=\"edge4\" class=\"edge\">\n<title>b0&#45;&gt;S1</title>\n<path fill=\"none\" stroke=\"green\" d=\"M1.99,-151.19C2.21,-156.11 3.68,-176.63 12.95,-189.6 18.44,-197.28 26.17,-203.81 33.96,-209.08\"/>\n<polygon fill=\"green\" stroke=\"green\" points=\"32.32,-212.18 42.66,-214.49 36.01,-206.24 32.32,-212.18\"/>\n<text text-anchor=\"middle\" x=\"16.45\" y=\"-178.4\" font-family=\"Times New Roman,serif\" font-size=\"14.00\">2</text>\n</g>\n<!-- a1&#45;&gt;S0 -->\n<g id=\"edge8\" class=\"edge\">\n<title>a1&#45;&gt;S0</title>\n<path fill=\"none\" stroke=\"green\" d=\"M126.04,-151.26C126.82,-161.79 132.73,-241.29 135.92,-284.25\"/>\n<polygon fill=\"green\" stroke=\"green\" points=\"132.43,-284.6 136.67,-294.32 139.41,-284.08 132.43,-284.6\"/>\n<text text-anchor=\"middle\" x=\"135.45\" y=\"-221.9\" font-family=\"Times New Roman,serif\" font-size=\"14.00\">3</text>\n</g>\n<!-- a1&#45;&gt;S1 -->\n<g id=\"edge9\" class=\"edge\">\n<title>a1&#45;&gt;S1</title>\n<path fill=\"none\" stroke=\"green\" d=\"M125.2,-151.09C121.81,-155.61 107.46,-174.6 94.95,-189.6 91.53,-193.7 87.82,-198.01 84.19,-202.14\"/>\n<polygon fill=\"green\" stroke=\"green\" points=\"81.44,-199.98 77.42,-209.78 86.67,-204.62 81.44,-199.98\"/>\n<text text-anchor=\"middle\" x=\"110.45\" y=\"-178.4\" font-family=\"Times New Roman,serif\" font-size=\"14.00\">6</text>\n</g>\n<!-- a1&#45;&gt;S2 -->\n<g id=\"edge7\" class=\"edge\">\n<title>a1&#45;&gt;S2</title>\n<path fill=\"none\" stroke=\"green\" d=\"M126.25,-147.26C127.95,-142.58 136.44,-119.14 143.4,-99.94\"/>\n<polygon fill=\"green\" stroke=\"green\" points=\"146.74,-101.01 146.86,-90.41 140.16,-98.62 146.74,-101.01\"/>\n<text text-anchor=\"middle\" x=\"143.45\" y=\"-112.4\" font-family=\"Times New Roman,serif\" font-size=\"14.00\">1</text>\n</g>\n<!-- c2&#45;&gt;S0 -->\n<g id=\"edge11\" class=\"edge\">\n<title>c2&#45;&gt;S0</title>\n<path fill=\"none\" stroke=\"black\" d=\"M154.1,-3.28C162.86,-7.03 218.95,-32.54 218.95,-71.6 218.95,-226.6 218.95,-226.6 218.95,-226.6 218.95,-257.19 191.11,-281.13 168.08,-295.7\"/>\n<polygon fill=\"black\" stroke=\"black\" points=\"166.01,-292.86 159.23,-301 169.61,-298.86 166.01,-292.86\"/>\n<text text-anchor=\"middle\" x=\"222.45\" y=\"-145.4\" font-family=\"Times New Roman,serif\" font-size=\"14.00\">5</text>\n</g>\n<!-- c2&#45;&gt;S1 -->\n<g id=\"edge12\" class=\"edge\">\n<title>c2&#45;&gt;S1</title>\n<path fill=\"none\" stroke=\"black\" d=\"M151.92,-4C147.26,-9.46 127.94,-32.67 116.95,-54.6 92.98,-102.44 77.19,-163.31 69.48,-197.71\"/>\n<polygon fill=\"black\" stroke=\"black\" points=\"66.06,-196.98 67.35,-207.5 72.9,-198.47 66.06,-196.98\"/>\n<text text-anchor=\"middle\" x=\"98.45\" y=\"-112.4\" font-family=\"Times New Roman,serif\" font-size=\"14.00\">5</text>\n</g>\n</g>\n</svg>\n",
      "text/plain": [
       "<graphviz.graphs.Digraph at 0x2b15d8b3c40>"
      ]
     },
     "execution_count": 19,
     "metadata": {},
     "output_type": "execute_result"
    }
   ],
   "source": [
    "graph._visualizeGrapheState(\"S1\")"
   ]
  },
  {
   "cell_type": "code",
   "execution_count": 20,
   "metadata": {},
   "outputs": [
    {
     "name": "stdout",
     "output_type": "stream",
     "text": [
      "Help on method parcours in module graphe:\n",
      "\n",
      "parcours(N_pas=50, regle='', ret_chemin=False, print_txt=False, print_step=0, make_gif=False) -> list method of graphe.graphe instance\n",
      "    Parcours du graphe selon une règle choisie par l'utilisateur. \n",
      "    regle : Choix de la méthode de parcours \n",
      "        - \"alea\" : Choix aléatoire des actions et des états. \n",
      "                print_txt : Affiche du texte à chaque itération si True\n",
      "                print_step : Pour une exécution en notebook, le graphe sera affiché tous les print_step\n",
      "        - \"notebook\" : L'utilisateur choisit les actions, les états sont aléatoires. Le graphe est affiché à chaque étape. \n",
      "        - autre : Parcours du graphe en demandant à l'utilisateur les actions, et en choisissant aléatoirement les états.\n",
      "    N_pas : Nombre de pas à effectuer dans le graphe\n",
      "    make_gif : Si True, un fichier parcours.gif sera créé\n",
      "    ret_chemin : Si True, la fonction renvoie les noeuds parcourus.\n",
      "\n"
     ]
    }
   ],
   "source": [
    "help(graph.parcours)"
   ]
  },
  {
   "attachments": {},
   "cell_type": "markdown",
   "metadata": {},
   "source": [
    "Règle aléatoire"
   ]
  },
  {
   "cell_type": "code",
   "execution_count": 21,
   "metadata": {},
   "outputs": [
    {
     "name": "stdout",
     "output_type": "stream",
     "text": [
      "MoviePy - Building file parcours.gif with imageio.\n"
     ]
    },
    {
     "name": "stderr",
     "output_type": "stream",
     "text": [
      "                                                              \r"
     ]
    }
   ],
   "source": [
    "graph.parcours(N_pas = 60, regle=\"alea\", make_gif = True)"
   ]
  },
  {
   "attachments": {},
   "cell_type": "markdown",
   "metadata": {},
   "source": [
    "Règle notebook"
   ]
  },
  {
   "cell_type": "code",
   "execution_count": 23,
   "metadata": {},
   "outputs": [
    {
     "name": "stdout",
     "output_type": "stream",
     "text": [
      "L'action a est choisie, l'état S1 est atteint avec une probabilité p = 0.6\n"
     ]
    },
    {
     "data": {
      "text/plain": [
       "[0, 2, 1, 1]"
      ]
     },
     "execution_count": 23,
     "metadata": {},
     "output_type": "execute_result"
    }
   ],
   "source": [
    "graph.parcours(N_pas = 5, regle = \"notebook\", ret_chemin = True)"
   ]
  },
  {
   "cell_type": "code",
   "execution_count": 24,
   "metadata": {},
   "outputs": [
    {
     "name": "stdout",
     "output_type": "stream",
     "text": [
      "Help on method statistiques in module graphe:\n",
      "\n",
      "statistiques(N_pas=50, N_parcours=50) method of graphe.graphe instance\n",
      "    Étude statistique de graphe par parcours aléatoires\n",
      "    N_pas : Nombre de pas à effectuer dans le graphe\n",
      "    N_parcours : Nombre de parcours\n",
      "\n"
     ]
    }
   ],
   "source": [
    "help(graph.statistiques)"
   ]
  },
  {
   "cell_type": "code",
   "execution_count": 25,
   "metadata": {},
   "outputs": [
    {
     "name": "stdout",
     "output_type": "stream",
     "text": [
      "Freq      ->S0     ->S1     ->S2    Total\n",
      "S0     0.00000  0.17775  0.17850  0.35625\n",
      "S1     0.24475  0.17075  0.02575  0.44125\n",
      "S2     0.10450  0.09800  0.00000  0.20250\n",
      "Total  0.34925  0.44650  0.20425  1.00000\n"
     ]
    }
   ],
   "source": [
    "d = graph.statistiques(N_parcours=40,N_pas = 100)"
   ]
  }
 ],
 "metadata": {
  "kernelspec": {
   "display_name": "base",
   "language": "python",
   "name": "python3"
  },
  "language_info": {
   "codemirror_mode": {
    "name": "ipython",
    "version": 3
   },
   "file_extension": ".py",
   "mimetype": "text/x-python",
   "name": "python",
   "nbconvert_exporter": "python",
   "pygments_lexer": "ipython3",
   "version": "3.10.8"
  },
  "orig_nbformat": 4,
  "vscode": {
   "interpreter": {
    "hash": "67bfac4f4aefe1c16f1836a62d55b6e6baa7aba1ac5ce70e93ee8e90eb4f073a"
   }
  }
 },
 "nbformat": 4,
 "nbformat_minor": 2
}
